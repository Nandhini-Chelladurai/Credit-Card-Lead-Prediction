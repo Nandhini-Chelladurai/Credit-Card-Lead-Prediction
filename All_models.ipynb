{
  "nbformat": 4,
  "nbformat_minor": 0,
  "metadata": {
    "colab": {
      "name": "jobathon all models.ipynb",
      "provenance": [],
      "collapsed_sections": [
        "gugB3L9trlxl",
        "VQQsWXejt6Xo",
        "N__DBVLul6RA",
        "s8EOGvgqmKbE",
        "px6hrbxSp5eE",
        "7kjX7ZZw-7gt",
        "RqEx4yo7__o-",
        "X_OYFRtHNifZ"
      ],
      "toc_visible": true
    },
    "kernelspec": {
      "name": "python3",
      "display_name": "Python 3"
    },
    "language_info": {
      "name": "python"
    },
    "accelerator": "GPU"
  },
  "cells": [
    {
      "cell_type": "code",
      "metadata": {
        "id": "v7uV09aCjbHJ",
        "colab": {
          "base_uri": "https://localhost:8080/"
        },
        "outputId": "4acd63d4-bea1-4b3c-9cd5-bbd7b217e002"
      },
      "source": [
        "import pandas as pd\n",
        "import numpy as np\n",
        "import matplotlib.pyplot as plt\n",
        "import seaborn as sns\n",
        "from sklearn.impute import KNNImputer\n",
        "import sklearn.preprocessing as sk\n",
        "from collections import defaultdict\n",
        "from sklearn.model_selection import train_test_split, GridSearchCV, cross_val_score\n",
        "from sklearn.metrics import confusion_matrix, accuracy_score, classification_report\n",
        "from sklearn.metrics import roc_auc_score, roc_curve, precision_score, recall_score, f1_score\n",
        "from imblearn.over_sampling import SMOTE\n",
        "from sklearn.ensemble import RandomForestClassifier\n",
        "from sklearn.linear_model import LogisticRegression\n",
        "from sklearn.svm import SVC, LinearSVC\n",
        "from sklearn.ensemble import RandomForestClassifier\n",
        "from sklearn.neighbors import KNeighborsClassifier\n",
        "from sklearn.naive_bayes import GaussianNB\n",
        "from sklearn.linear_model import Perceptron\n",
        "from sklearn.linear_model import SGDClassifier\n",
        "from sklearn.tree import DecisionTreeClassifier"
      ],
      "execution_count": 1,
      "outputs": [
        {
          "output_type": "stream",
          "text": [
            "/usr/local/lib/python3.7/dist-packages/sklearn/externals/six.py:31: FutureWarning: The module is deprecated in version 0.21 and will be removed in version 0.23 since we've dropped support for Python 2.7. Please rely on the official version of six (https://pypi.org/project/six/).\n",
            "  \"(https://pypi.org/project/six/).\", FutureWarning)\n",
            "/usr/local/lib/python3.7/dist-packages/sklearn/utils/deprecation.py:144: FutureWarning: The sklearn.neighbors.base module is  deprecated in version 0.22 and will be removed in version 0.24. The corresponding classes / functions should instead be imported from sklearn.neighbors. Anything that cannot be imported from sklearn.neighbors is now part of the private API.\n",
            "  warnings.warn(message, FutureWarning)\n"
          ],
          "name": "stderr"
        }
      ]
    },
    {
      "cell_type": "code",
      "metadata": {
        "id": "Y898NQJ9Nx8d"
      },
      "source": [
        "#function for model fitting\n",
        "def prediction(algo, training_x, training_y, testing_x, testing_y, cols, cf = 'coefficients'):\n",
        "   \n",
        "    algo.fit(training_x,training_y)\n",
        "    print('fitted model')\n",
        "    predictions = algo.predict(testing_x)\n",
        "    probabilities = algo.predict_proba(testing_x)[:,1]\n",
        "\n",
        "    #coeffs\n",
        "    if cf == \"coefficients\":\n",
        "        coefficients = pd.DataFrame(algo.coef_.ravel())\n",
        "    elif cf == \"features\":\n",
        "        coefficients = pd.DataFrame(algo.feature_importances_)\n",
        "        \n",
        "    column_df = pd.DataFrame(cols)\n",
        "    coef_sumry = (pd.merge(coefficients,column_df,left_index= True,\n",
        "                              right_index= True, how = \"left\"))\n",
        "    coef_sumry.columns = [\"coefficients\",\"features\"]\n",
        "    coef_sumry = coef_sumry.sort_values(by = \"coefficients\",ascending = False)\n",
        "    \n",
        "    print (algo)\n",
        "    print (\"\\n Classification report : \\n\",classification_report(testing_y,predictions))\n",
        "    print (\"Accuracy   Score : \",accuracy_score(testing_y,predictions))\n",
        "    \n",
        "    #confusion matrix\n",
        "    conf_matrix = confusion_matrix(testing_y,predictions)\n",
        "    plt.figure(figsize=(12,12))\n",
        "    plt.subplot(221)\n",
        "    sns.heatmap(conf_matrix, fmt = \"d\",annot=True, cmap='Blues')\n",
        "    plt.title('Confuion Matrix')\n",
        "    plt.ylabel('True Values')\n",
        "    plt.xlabel('Predicted Values')\n",
        "    \n",
        "    #roc_auc_score\n",
        "    model_roc_auc = roc_auc_score(testing_y,probabilities) \n",
        "    print (\"Area under curve : \",model_roc_auc,\"\\n\")\n",
        "    fpr,tpr,thresholds = roc_curve(testing_y,probabilities)\n",
        "    \n",
        "    plt.subplot(222)\n",
        "    plt.plot(fpr, tpr, color='darkorange', lw=1, label = \"Auc : %.3f\" %model_roc_auc)\n",
        "    plt.plot([0, 1], [0, 1], color='navy', lw=2, linestyle='--')\n",
        "    plt.xlim([0.0, 1.0])\n",
        "    plt.ylim([0.0, 1.05])\n",
        "    plt.xlabel('False Positive Rate')\n",
        "    plt.ylabel('True Positive Rate')\n",
        "    plt.title('Receiver operating characteristic')\n",
        "    plt.legend(loc=\"lower right\")\n",
        "    \n",
        "    plt.subplot(212)\n",
        "    sns.barplot(x = coef_sumry[\"features\"] ,y = coef_sumry[\"coefficients\"])\n",
        "    plt.title('Feature Importances')\n",
        "    plt.xticks(rotation=\"vertical\")\n",
        "    \n",
        "    plt.show()"
      ],
      "execution_count": 2,
      "outputs": []
    },
    {
      "cell_type": "code",
      "metadata": {
        "colab": {
          "base_uri": "https://localhost:8080/",
          "height": 222
        },
        "id": "dLoLT2xCluVR",
        "outputId": "b2b56f46-f38a-4331-af34-42b43eff5886"
      },
      "source": [
        "df = pd.read_csv(\"/content/drive/MyDrive/jobathon/process_data.csv\")\n",
        "df.head()"
      ],
      "execution_count": 40,
      "outputs": [
        {
          "output_type": "execute_result",
          "data": {
            "text/html": [
              "<div>\n",
              "<style scoped>\n",
              "    .dataframe tbody tr th:only-of-type {\n",
              "        vertical-align: middle;\n",
              "    }\n",
              "\n",
              "    .dataframe tbody tr th {\n",
              "        vertical-align: top;\n",
              "    }\n",
              "\n",
              "    .dataframe thead th {\n",
              "        text-align: right;\n",
              "    }\n",
              "</style>\n",
              "<table border=\"1\" class=\"dataframe\">\n",
              "  <thead>\n",
              "    <tr style=\"text-align: right;\">\n",
              "      <th></th>\n",
              "      <th>ID</th>\n",
              "      <th>Gender</th>\n",
              "      <th>Age</th>\n",
              "      <th>Region_Code</th>\n",
              "      <th>Occupation</th>\n",
              "      <th>Channel_Code</th>\n",
              "      <th>Vintage</th>\n",
              "      <th>Credit_Product</th>\n",
              "      <th>Avg_Account_Balance</th>\n",
              "      <th>Is_Active</th>\n",
              "      <th>Is_Lead</th>\n",
              "    </tr>\n",
              "  </thead>\n",
              "  <tbody>\n",
              "    <tr>\n",
              "      <th>0</th>\n",
              "      <td>NNVBBKZB</td>\n",
              "      <td>0.0</td>\n",
              "      <td>73.0</td>\n",
              "      <td>18.0</td>\n",
              "      <td>1.0</td>\n",
              "      <td>2.0</td>\n",
              "      <td>43.0</td>\n",
              "      <td>1.0</td>\n",
              "      <td>1045696.0</td>\n",
              "      <td>0.0</td>\n",
              "      <td>0</td>\n",
              "    </tr>\n",
              "    <tr>\n",
              "      <th>1</th>\n",
              "      <td>IDD62UNG</td>\n",
              "      <td>0.0</td>\n",
              "      <td>30.0</td>\n",
              "      <td>27.0</td>\n",
              "      <td>2.0</td>\n",
              "      <td>0.0</td>\n",
              "      <td>32.0</td>\n",
              "      <td>1.0</td>\n",
              "      <td>581988.0</td>\n",
              "      <td>0.0</td>\n",
              "      <td>0</td>\n",
              "    </tr>\n",
              "    <tr>\n",
              "      <th>2</th>\n",
              "      <td>HD3DSEMC</td>\n",
              "      <td>0.0</td>\n",
              "      <td>56.0</td>\n",
              "      <td>18.0</td>\n",
              "      <td>3.0</td>\n",
              "      <td>2.0</td>\n",
              "      <td>26.0</td>\n",
              "      <td>1.0</td>\n",
              "      <td>1484315.0</td>\n",
              "      <td>1.0</td>\n",
              "      <td>0</td>\n",
              "    </tr>\n",
              "    <tr>\n",
              "      <th>3</th>\n",
              "      <td>BF3NC7KV</td>\n",
              "      <td>1.0</td>\n",
              "      <td>34.0</td>\n",
              "      <td>20.0</td>\n",
              "      <td>2.0</td>\n",
              "      <td>0.0</td>\n",
              "      <td>19.0</td>\n",
              "      <td>1.0</td>\n",
              "      <td>470454.0</td>\n",
              "      <td>0.0</td>\n",
              "      <td>0</td>\n",
              "    </tr>\n",
              "    <tr>\n",
              "      <th>4</th>\n",
              "      <td>TEASRWXV</td>\n",
              "      <td>0.0</td>\n",
              "      <td>30.0</td>\n",
              "      <td>32.0</td>\n",
              "      <td>2.0</td>\n",
              "      <td>0.0</td>\n",
              "      <td>33.0</td>\n",
              "      <td>1.0</td>\n",
              "      <td>886787.0</td>\n",
              "      <td>0.0</td>\n",
              "      <td>0</td>\n",
              "    </tr>\n",
              "  </tbody>\n",
              "</table>\n",
              "</div>"
            ],
            "text/plain": [
              "         ID  Gender   Age  ...  Avg_Account_Balance  Is_Active  Is_Lead\n",
              "0  NNVBBKZB     0.0  73.0  ...            1045696.0        0.0        0\n",
              "1  IDD62UNG     0.0  30.0  ...             581988.0        0.0        0\n",
              "2  HD3DSEMC     0.0  56.0  ...            1484315.0        1.0        0\n",
              "3  BF3NC7KV     1.0  34.0  ...             470454.0        0.0        0\n",
              "4  TEASRWXV     0.0  30.0  ...             886787.0        0.0        0\n",
              "\n",
              "[5 rows x 11 columns]"
            ]
          },
          "metadata": {
            "tags": []
          },
          "execution_count": 40
        }
      ]
    },
    {
      "cell_type": "markdown",
      "metadata": {
        "id": "2OjMIlkPO1uR"
      },
      "source": [
        "Try SMOTE"
      ]
    },
    {
      "cell_type": "code",
      "metadata": {
        "colab": {
          "base_uri": "https://localhost:8080/"
        },
        "id": "IvSLyJNZO0a_",
        "outputId": "dfcd0119-b29b-43a2-fa03-0d6a37a6eee0"
      },
      "source": [
        "sm = SMOTE(random_state=42)\n",
        "X = df[df.columns[1:-1]]\n",
        "y = df.Is_Lead\n",
        "X_sm, y_sm = sm.fit_resample(X, y)\n",
        "\n",
        "print(f'''Shape of X before SMOTE: {X.shape}\n",
        "Shape of X after SMOTE: {X_sm.shape}''')\n",
        "\n",
        "print('\\nBalance of positive and negative classes (%):')\n",
        "pd.DataFrame(y_sm).value_counts(normalize=True) * 100"
      ],
      "execution_count": 41,
      "outputs": [
        {
          "output_type": "stream",
          "text": [
            "/usr/local/lib/python3.7/dist-packages/sklearn/utils/deprecation.py:87: FutureWarning: Function safe_indexing is deprecated; safe_indexing is deprecated in version 0.22 and will be removed in version 0.24.\n",
            "  warnings.warn(msg, category=FutureWarning)\n"
          ],
          "name": "stderr"
        },
        {
          "output_type": "stream",
          "text": [
            "Shape of X before SMOTE: (245725, 9)\n",
            "Shape of X after SMOTE: (374874, 9)\n",
            "\n",
            "Balance of positive and negative classes (%):\n"
          ],
          "name": "stdout"
        },
        {
          "output_type": "execute_result",
          "data": {
            "text/plain": [
              "1    50.0\n",
              "0    50.0\n",
              "dtype: float64"
            ]
          },
          "metadata": {
            "tags": []
          },
          "execution_count": 41
        }
      ]
    },
    {
      "cell_type": "code",
      "metadata": {
        "id": "PHfOX_GYPdRL"
      },
      "source": [
        "df_smote = pd.DataFrame(X_sm,columns = df.columns[1:-1])\n",
        "df_smote['Is_Lead'] = y_sm"
      ],
      "execution_count": 42,
      "outputs": []
    },
    {
      "cell_type": "code",
      "metadata": {
        "id": "qMX8NTKiUwce"
      },
      "source": [
        "df_smote.to_csv('/content/drive/MyDrive/jobathon/smote_data.csv',index=False)"
      ],
      "execution_count": 12,
      "outputs": []
    },
    {
      "cell_type": "markdown",
      "metadata": {
        "id": "SFTd-fCxORkc"
      },
      "source": [
        "#train test split"
      ]
    },
    {
      "cell_type": "code",
      "metadata": {
        "id": "J0htZ9AAMEUi"
      },
      "source": [
        "train, test = train_test_split(df_smote, test_size=0.2, random_state=111, stratify = df_smote.Is_Lead)\n",
        "x = df.columns[1:-1]\n",
        "y = \"Is_Lead\"\n",
        "train_x = train[x]\n",
        "train_y = train[y]\n",
        "test_x = test[x]\n",
        "test_y = test[y]\n"
      ],
      "execution_count": 43,
      "outputs": []
    },
    {
      "cell_type": "markdown",
      "metadata": {
        "id": "gugB3L9trlxl"
      },
      "source": [
        "##LGBMClassifier"
      ]
    },
    {
      "cell_type": "code",
      "metadata": {
        "colab": {
          "base_uri": "https://localhost:8080/"
        },
        "id": "H6fMVv11rhUO",
        "outputId": "f0132765-4420-4e42-8286-44aec2b061bd"
      },
      "source": [
        "from sklearn.model_selection import KFold, StratifiedKFold\n",
        "from sklearn.metrics import roc_auc_score\n",
        "\n",
        "def cross_val(X, y, model, params, folds=4):\n",
        "\n",
        "    skf = StratifiedKFold(n_splits=folds, shuffle=True, random_state=21)\n",
        "    for fold, (train_idx, test_idx) in enumerate(skf.split(X, y)):\n",
        "        print(f\"Fold: {fold}\")\n",
        "        x_train, y_train = X.iloc[train_idx], y.iloc[train_idx]\n",
        "        x_test, y_test = X.iloc[test_idx], y.iloc[test_idx]\n",
        "\n",
        "        alg = model(**params)\n",
        "        alg.fit(x_train, y_train,\n",
        "                eval_set=[(x_test, y_test)],\n",
        "                early_stopping_rounds=100,\n",
        "                verbose=400)\n",
        "\n",
        "        pred = alg.predict_proba(x_test)[:, 1]\n",
        "        roc_score = roc_auc_score(y_test, pred)\n",
        "        print(f\"roc_auc_score: {roc_score}\")\n",
        "        print(\"-\"*50)\n",
        "    \n",
        "    return alg\n",
        "lgb_params= {'learning_rate': 0.05, \n",
        "             'n_estimators': 20000, \n",
        "             'max_bin': 94,\n",
        "             'num_leaves': 5, \n",
        "             'max_depth': 7, \n",
        "             }\n",
        "from lightgbm import LGBMClassifier\n",
        "lgb_model = cross_val(train_x, train_y, LGBMClassifier, lgb_params)"
      ],
      "execution_count": 35,
      "outputs": [
        {
          "output_type": "stream",
          "text": [
            "Fold: 0\n",
            "Training until validation scores don't improve for 100 rounds.\n",
            "[400]\tvalid_0's binary_logloss: 0.30294\n",
            "[800]\tvalid_0's binary_logloss: 0.295433\n",
            "[1200]\tvalid_0's binary_logloss: 0.292398\n",
            "[1600]\tvalid_0's binary_logloss: 0.290175\n",
            "[2000]\tvalid_0's binary_logloss: 0.288943\n",
            "[2400]\tvalid_0's binary_logloss: 0.287513\n",
            "[2800]\tvalid_0's binary_logloss: 0.28705\n",
            "[3200]\tvalid_0's binary_logloss: 0.286732\n",
            "[3600]\tvalid_0's binary_logloss: 0.286298\n",
            "[4000]\tvalid_0's binary_logloss: 0.2861\n",
            "[4400]\tvalid_0's binary_logloss: 0.285916\n",
            "[4800]\tvalid_0's binary_logloss: 0.285773\n",
            "Early stopping, best iteration is:\n",
            "[5004]\tvalid_0's binary_logloss: 0.285734\n",
            "roc_auc_score: 0.9367625530727448\n",
            "--------------------------------------------------\n",
            "Fold: 1\n",
            "Training until validation scores don't improve for 100 rounds.\n",
            "[400]\tvalid_0's binary_logloss: 0.303058\n",
            "[800]\tvalid_0's binary_logloss: 0.294889\n",
            "[1200]\tvalid_0's binary_logloss: 0.291473\n",
            "[1600]\tvalid_0's binary_logloss: 0.289653\n",
            "[2000]\tvalid_0's binary_logloss: 0.288509\n",
            "[2400]\tvalid_0's binary_logloss: 0.287787\n",
            "[2800]\tvalid_0's binary_logloss: 0.287395\n",
            "[3200]\tvalid_0's binary_logloss: 0.287158\n",
            "[3600]\tvalid_0's binary_logloss: 0.286897\n",
            "[4000]\tvalid_0's binary_logloss: 0.28665\n",
            "[4400]\tvalid_0's binary_logloss: 0.28645\n",
            "[4800]\tvalid_0's binary_logloss: 0.28627\n",
            "Early stopping, best iteration is:\n",
            "[5000]\tvalid_0's binary_logloss: 0.286188\n",
            "roc_auc_score: 0.9361011440289768\n",
            "--------------------------------------------------\n",
            "Fold: 2\n",
            "Training until validation scores don't improve for 100 rounds.\n",
            "[400]\tvalid_0's binary_logloss: 0.301767\n",
            "[800]\tvalid_0's binary_logloss: 0.293018\n",
            "[1200]\tvalid_0's binary_logloss: 0.289949\n",
            "[1600]\tvalid_0's binary_logloss: 0.288373\n",
            "[2000]\tvalid_0's binary_logloss: 0.287537\n",
            "[2400]\tvalid_0's binary_logloss: 0.286993\n",
            "[2800]\tvalid_0's binary_logloss: 0.286482\n",
            "[3200]\tvalid_0's binary_logloss: 0.286232\n",
            "[3600]\tvalid_0's binary_logloss: 0.285883\n",
            "[4000]\tvalid_0's binary_logloss: 0.285703\n",
            "[4400]\tvalid_0's binary_logloss: 0.285483\n",
            "[4800]\tvalid_0's binary_logloss: 0.285392\n",
            "[5200]\tvalid_0's binary_logloss: 0.285328\n",
            "Early stopping, best iteration is:\n",
            "[5413]\tvalid_0's binary_logloss: 0.285276\n",
            "roc_auc_score: 0.9366710446105879\n",
            "--------------------------------------------------\n",
            "Fold: 3\n",
            "Training until validation scores don't improve for 100 rounds.\n",
            "[400]\tvalid_0's binary_logloss: 0.303504\n",
            "[800]\tvalid_0's binary_logloss: 0.295529\n",
            "[1200]\tvalid_0's binary_logloss: 0.2922\n",
            "[1600]\tvalid_0's binary_logloss: 0.29028\n",
            "[2000]\tvalid_0's binary_logloss: 0.288916\n",
            "[2400]\tvalid_0's binary_logloss: 0.288238\n",
            "[2800]\tvalid_0's binary_logloss: 0.287787\n",
            "[3200]\tvalid_0's binary_logloss: 0.287313\n",
            "[3600]\tvalid_0's binary_logloss: 0.28705\n",
            "Early stopping, best iteration is:\n",
            "[3663]\tvalid_0's binary_logloss: 0.28702\n",
            "roc_auc_score: 0.9356539377520304\n",
            "--------------------------------------------------\n"
          ],
          "name": "stdout"
        }
      ]
    },
    {
      "cell_type": "code",
      "metadata": {
        "colab": {
          "base_uri": "https://localhost:8080/"
        },
        "id": "BiSt3CfwsJTI",
        "outputId": "140f6cf5-8b37-4daa-abc6-1001ffe0c956"
      },
      "source": [
        "Y_pred = lgb_model.predict(test_x)\n",
        "acc_lgb = round(lgb_model.score(train_x, train_y) * 100, 2)\n",
        "print(\"Accuracy :\",acc_lgb,\"\\nroc_auc :\",roc_auc_score(test_y,Y_pred))"
      ],
      "execution_count": 39,
      "outputs": [
        {
          "output_type": "stream",
          "text": [
            "Accuracy : 86.82 \n",
            "roc_auc : 0.8633400011164492\n"
          ],
          "name": "stdout"
        }
      ]
    },
    {
      "cell_type": "markdown",
      "metadata": {
        "id": "VQQsWXejt6Xo"
      },
      "source": [
        "##ExtraTreesClassifier"
      ]
    },
    {
      "cell_type": "code",
      "metadata": {
        "id": "IHmT5k2Yt33E"
      },
      "source": [
        "from sklearn.ensemble import ExtraTreesClassifier\n",
        "clf = ExtraTreesClassifier(criterion='entropy', n_estimators=100, random_state=0,class_weight={0: 1, 1: 2},)\n",
        "ET_model = clf.fit(train_x, train_y)"
      ],
      "execution_count": null,
      "outputs": []
    },
    {
      "cell_type": "code",
      "metadata": {
        "colab": {
          "base_uri": "https://localhost:8080/"
        },
        "id": "lnyzyKx2vR5E",
        "outputId": "4bdc3a3e-e43e-4004-e011-c4498b68e9bc"
      },
      "source": [
        "Y_pred = ET_model.predict(test_x)\n",
        "acc_log = round(ET_model.score(train_x, train_y) * 100, 2)\n",
        "print(\"Accuracy :\",acc_log,\"\\nroc_auc :\",roc_auc_score(test_y,Y_pred))"
      ],
      "execution_count": 15,
      "outputs": [
        {
          "output_type": "stream",
          "text": [
            "Accuracy : 100.0 \n",
            "roc_auc : 0.844254165387663\n"
          ],
          "name": "stdout"
        }
      ]
    },
    {
      "cell_type": "markdown",
      "metadata": {
        "id": "N__DBVLul6RA"
      },
      "source": [
        "##Gradient Boost"
      ]
    },
    {
      "cell_type": "code",
      "metadata": {
        "id": "A26lePL3vzvi"
      },
      "source": [
        "from sklearn.ensemble import RandomForestClassifier,AdaBoostClassifier,GradientBoostingClassifier\n",
        "GBC = GradientBoostingClassifier(n_estimators=100,max_depth=7)\n",
        "# GBC.fit(train_x, train_y)\n",
        "# y_pred = GBC.predict(test_x)\n"
      ],
      "execution_count": 11,
      "outputs": []
    },
    {
      "cell_type": "code",
      "metadata": {
        "colab": {
          "base_uri": "https://localhost:8080/",
          "height": 1000
        },
        "id": "g9yb9CYYkCKI",
        "outputId": "de6c7a71-2b8e-427c-ea16-f0278c512ca1"
      },
      "source": [
        "prediction(GBC, train_x, train_y, test_x, test_y, x,\"features\")"
      ],
      "execution_count": 47,
      "outputs": [
        {
          "output_type": "stream",
          "text": [
            "fitted model\n",
            "GradientBoostingClassifier(ccp_alpha=0.0, criterion='friedman_mse', init=None,\n",
            "                           learning_rate=0.1, loss='deviance', max_depth=7,\n",
            "                           max_features=None, max_leaf_nodes=None,\n",
            "                           min_impurity_decrease=0.0, min_impurity_split=None,\n",
            "                           min_samples_leaf=1, min_samples_split=2,\n",
            "                           min_weight_fraction_leaf=0.0, n_estimators=100,\n",
            "                           n_iter_no_change=None, presort='deprecated',\n",
            "                           random_state=None, subsample=1.0, tol=0.0001,\n",
            "                           validation_fraction=0.1, verbose=0,\n",
            "                           warm_start=False)\n",
            "\n",
            " Classification report : \n",
            "               precision    recall  f1-score   support\n",
            "\n",
            "           0       0.81      0.94      0.87     37488\n",
            "           1       0.93      0.78      0.85     37487\n",
            "\n",
            "    accuracy                           0.86     74975\n",
            "   macro avg       0.87      0.86      0.86     74975\n",
            "weighted avg       0.87      0.86      0.86     74975\n",
            "\n",
            "Accuracy   Score :  0.8615538512837613\n",
            "Area under curve :  0.9342623870171707 \n",
            "\n"
          ],
          "name": "stdout"
        },
        {
          "output_type": "display_data",
          "data": {
            "image/png": "[encoded data removed]",
            "text/plain": [
              "<Figure size 864x864 with 4 Axes>"
            ]
          },
          "metadata": {
            "tags": [],
            "needs_background": "light"
          }
        }
      ]
    },
    {
      "cell_type": "markdown",
      "metadata": {
        "id": "s8EOGvgqmKbE"
      },
      "source": [
        "##Ada Boost"
      ]
    },
    {
      "cell_type": "code",
      "metadata": {
        "id": "pieca1FVl_0L"
      },
      "source": [
        "ABC = AdaBoostClassifier(n_estimators=100)\n",
        "ABC.fit(train_x, train_y)\n",
        "y_pred = ABC.predict(test_x)\n",
        "print(\"Accuracy :\",accuracy_score(test_y, y_pred),\"\\nroc_auc :\",roc_auc_score(test_y,y_pred))"
      ],
      "execution_count": null,
      "outputs": []
    },
    {
      "cell_type": "code",
      "metadata": {
        "colab": {
          "base_uri": "https://localhost:8080/",
          "height": 1000
        },
        "id": "0QFdyRV3qgQ0",
        "outputId": "84c260bf-73bf-45cb-c350-2a709bfe5de5"
      },
      "source": [
        "ABC = AdaBoostClassifier(n_estimators=1000, learning_rate=0.5, algorithm='SAMME')\n",
        "prediction(ABC, train_x, train_y, test_x, test_y, x,\"features\")"
      ],
      "execution_count": 13,
      "outputs": [
        {
          "output_type": "stream",
          "text": [
            "fitted model\n",
            "AdaBoostClassifier(algorithm='SAMME', base_estimator=None, learning_rate=0.5,\n",
            "                   n_estimators=1000, random_state=None)\n",
            "\n",
            " Classification report : \n",
            "               precision    recall  f1-score   support\n",
            "\n",
            "           0       0.80      0.94      0.86     37488\n",
            "           1       0.92      0.77      0.84     37487\n",
            "\n",
            "    accuracy                           0.85     74975\n",
            "   macro avg       0.86      0.85      0.85     74975\n",
            "weighted avg       0.86      0.85      0.85     74975\n",
            "\n",
            "Accuracy   Score :  0.8525641880626875\n",
            "Area under curve :  0.9244439338486965 \n",
            "\n"
          ],
          "name": "stdout"
        },
        {
          "output_type": "display_data",
          "data": {
            "image/png": "[encoded data removed]",
            "text/plain": [
              "<Figure size 864x864 with 4 Axes>"
            ]
          },
          "metadata": {
            "tags": [],
            "needs_background": "light"
          }
        }
      ]
    },
    {
      "cell_type": "markdown",
      "metadata": {
        "id": "px6hrbxSp5eE"
      },
      "source": [
        "##Logistic reg"
      ]
    },
    {
      "cell_type": "code",
      "metadata": {
        "colab": {
          "base_uri": "https://localhost:8080/"
        },
        "id": "Rsr4lw4AoPfW",
        "outputId": "9e3a8392-0f90-4228-db50-fb009259c4de"
      },
      "source": [
        "logreg = LogisticRegression()\n",
        "logreg.fit(train_x, train_y)\n",
        "Y_pred = logreg.predict(test_x)\n",
        "acc_log = round(logreg.score(train_x, train_y) * 100, 2)\n",
        "print(\"Accuracy :\",acc_log,\"\\nroc_auc :\",roc_auc_score(test_y,Y_pred))"
      ],
      "execution_count": 18,
      "outputs": [
        {
          "output_type": "stream",
          "text": [
            "Accuracy : 50.0 \n",
            "roc_auc : 0.5\n"
          ],
          "name": "stdout"
        }
      ]
    },
    {
      "cell_type": "markdown",
      "metadata": {
        "id": "HivTUwoH5ebC"
      },
      "source": [
        "#####Coefficient of the features\n",
        "\n",
        "Positive coefficients increase the log-odds of the response (and thus increase the probability), and negative coefficients decrease the log-odds of the response (and thus decrease the probability)."
      ]
    },
    {
      "cell_type": "code",
      "metadata": {
        "colab": {
          "base_uri": "https://localhost:8080/",
          "height": 325
        },
        "id": "lQP2faGIxRxP",
        "outputId": "0c62e4d7-a3bb-4675-b047-de4d8223d901"
      },
      "source": [
        "coeff_df = pd.DataFrame(df.columns[1:-1])\n",
        "coeff_df.columns = ['Feature']\n",
        "coeff_df[\"Correlation\"] = pd.Series(logreg.coef_[0])\n",
        "\n",
        "coeff_df.sort_values(by='Correlation', ascending=False)"
      ],
      "execution_count": 19,
      "outputs": [
        {
          "output_type": "execute_result",
          "data": {
            "text/html": [
              "<div>\n",
              "<style scoped>\n",
              "    .dataframe tbody tr th:only-of-type {\n",
              "        vertical-align: middle;\n",
              "    }\n",
              "\n",
              "    .dataframe tbody tr th {\n",
              "        vertical-align: top;\n",
              "    }\n",
              "\n",
              "    .dataframe thead th {\n",
              "        text-align: right;\n",
              "    }\n",
              "</style>\n",
              "<table border=\"1\" class=\"dataframe\">\n",
              "  <thead>\n",
              "    <tr style=\"text-align: right;\">\n",
              "      <th></th>\n",
              "      <th>Feature</th>\n",
              "      <th>Correlation</th>\n",
              "    </tr>\n",
              "  </thead>\n",
              "  <tbody>\n",
              "    <tr>\n",
              "      <th>7</th>\n",
              "      <td>Avg_Account_Balance</td>\n",
              "      <td>5.160403e-08</td>\n",
              "    </tr>\n",
              "    <tr>\n",
              "      <th>5</th>\n",
              "      <td>Vintage</td>\n",
              "      <td>2.801200e-11</td>\n",
              "    </tr>\n",
              "    <tr>\n",
              "      <th>1</th>\n",
              "      <td>Age</td>\n",
              "      <td>9.037498e-12</td>\n",
              "    </tr>\n",
              "    <tr>\n",
              "      <th>2</th>\n",
              "      <td>Region_Code</td>\n",
              "      <td>1.178953e-12</td>\n",
              "    </tr>\n",
              "    <tr>\n",
              "      <th>4</th>\n",
              "      <td>Channel_Code</td>\n",
              "      <td>7.283404e-13</td>\n",
              "    </tr>\n",
              "    <tr>\n",
              "      <th>6</th>\n",
              "      <td>Credit_Product</td>\n",
              "      <td>2.609980e-13</td>\n",
              "    </tr>\n",
              "    <tr>\n",
              "      <th>8</th>\n",
              "      <td>Is_Active</td>\n",
              "      <td>1.205002e-13</td>\n",
              "    </tr>\n",
              "    <tr>\n",
              "      <th>0</th>\n",
              "      <td>Gender</td>\n",
              "      <td>8.914462e-14</td>\n",
              "    </tr>\n",
              "    <tr>\n",
              "      <th>3</th>\n",
              "      <td>Occupation</td>\n",
              "      <td>-8.031582e-14</td>\n",
              "    </tr>\n",
              "  </tbody>\n",
              "</table>\n",
              "</div>"
            ],
            "text/plain": [
              "               Feature   Correlation\n",
              "7  Avg_Account_Balance  5.160403e-08\n",
              "5              Vintage  2.801200e-11\n",
              "1                  Age  9.037498e-12\n",
              "2          Region_Code  1.178953e-12\n",
              "4         Channel_Code  7.283404e-13\n",
              "6       Credit_Product  2.609980e-13\n",
              "8            Is_Active  1.205002e-13\n",
              "0               Gender  8.914462e-14\n",
              "3           Occupation -8.031582e-14"
            ]
          },
          "metadata": {
            "tags": []
          },
          "execution_count": 19
        }
      ]
    },
    {
      "cell_type": "markdown",
      "metadata": {
        "id": "7kjX7ZZw-7gt"
      },
      "source": [
        "##Bayes"
      ]
    },
    {
      "cell_type": "code",
      "metadata": {
        "colab": {
          "base_uri": "https://localhost:8080/"
        },
        "id": "I1fcO04D53gC",
        "outputId": "b115c6f3-29fa-4776-94a8-b4c099efb77b"
      },
      "source": [
        "gaussian = GaussianNB()\n",
        "gaussian.fit(train_x, train_y)\n",
        "Y_pred = gaussian.predict(test_x)\n",
        "acc_gaussian = round(gaussian.score(train_x, train_y) * 100, 2)\n",
        "print(\"Accuracy :\",acc_gaussian,\"\\nroc_auc :\",roc_auc_score(test_y,Y_pred))"
      ],
      "execution_count": 20,
      "outputs": [
        {
          "output_type": "stream",
          "text": [
            "Accuracy : 65.56 \n",
            "roc_auc : 0.6510701960831127\n"
          ],
          "name": "stdout"
        }
      ]
    },
    {
      "cell_type": "markdown",
      "metadata": {
        "id": "RqEx4yo7__o-"
      },
      "source": [
        "##SGDClassifier"
      ]
    },
    {
      "cell_type": "code",
      "metadata": {
        "colab": {
          "base_uri": "https://localhost:8080/"
        },
        "id": "I9honI3F5c9Z",
        "outputId": "9ce6c6eb-d382-4b7b-e6bc-04ddc69c3dee"
      },
      "source": [
        "sgd = SGDClassifier()\n",
        "sgd.fit(train_x, train_y)\n",
        "Y_pred = sgd.predict(test_x)\n",
        "acc_sgd = round(sgd.score(train_x, train_y) * 100, 2)\n",
        "print(\"Accuracy :\",acc_sgd,\"\\nroc_auc :\",roc_auc_score(test_y,Y_pred))"
      ],
      "execution_count": 21,
      "outputs": [
        {
          "output_type": "stream",
          "text": [
            "Accuracy : 50.0 \n",
            "roc_auc : 0.5\n"
          ],
          "name": "stdout"
        }
      ]
    },
    {
      "cell_type": "markdown",
      "metadata": {
        "id": "AkBri7FINCIM"
      },
      "source": [
        "#RF Model"
      ]
    },
    {
      "cell_type": "code",
      "metadata": {
        "id": "zMDkn3EpNRwW"
      },
      "source": [
        "rfmodel = RandomForestClassifier(bootstrap=True, ccp_alpha=0.0, class_weight={0: 1, 1: 2},\n",
        "                       criterion='entropy', max_depth=6, max_features='auto',\n",
        "                       max_leaf_nodes=None, max_samples=None,\n",
        "                       min_impurity_decrease=0.0, min_impurity_split=None,\n",
        "                       min_samples_leaf=1, min_samples_split=8,\n",
        "                       min_weight_fraction_leaf=0.0, n_estimators=1000,\n",
        "                       n_jobs=None, oob_score=False, random_state=None,\n",
        "                       verbose=0, warm_start=False,)"
      ],
      "execution_count": 44,
      "outputs": []
    },
    {
      "cell_type": "code",
      "metadata": {
        "colab": {
          "base_uri": "https://localhost:8080/",
          "height": 1000
        },
        "id": "XQJTOK8qOaVa",
        "outputId": "5b96ee4c-f820-4c64-c64b-1b6442d917bf"
      },
      "source": [
        "prediction(rfmodel, train_x, train_y, test_x, test_y, x,\"features\")"
      ],
      "execution_count": 45,
      "outputs": [
        {
          "output_type": "stream",
          "text": [
            "fitted model\n",
            "RandomForestClassifier(bootstrap=True, ccp_alpha=0.0, class_weight={0: 1, 1: 2},\n",
            "                       criterion='entropy', max_depth=6, max_features='auto',\n",
            "                       max_leaf_nodes=None, max_samples=None,\n",
            "                       min_impurity_decrease=0.0, min_impurity_split=None,\n",
            "                       min_samples_leaf=1, min_samples_split=8,\n",
            "                       min_weight_fraction_leaf=0.0, n_estimators=1000,\n",
            "                       n_jobs=None, oob_score=False, random_state=None,\n",
            "                       verbose=0, warm_start=False)\n",
            "\n",
            " Classification report : \n",
            "               precision    recall  f1-score   support\n",
            "\n",
            "           0       0.90      0.64      0.74     37488\n",
            "           1       0.72      0.93      0.81     37487\n",
            "\n",
            "    accuracy                           0.78     74975\n",
            "   macro avg       0.81      0.78      0.78     74975\n",
            "weighted avg       0.81      0.78      0.78     74975\n",
            "\n",
            "Accuracy   Score :  0.7808336112037346\n",
            "Area under curve :  0.9173598899830872 \n",
            "\n"
          ],
          "name": "stdout"
        },
        {
          "output_type": "display_data",
          "data": {
            "image/png": "[encoded data removed]",
            "text/plain": [
              "<Figure size 864x864 with 4 Axes>"
            ]
          },
          "metadata": {
            "tags": [],
            "needs_background": "light"
          }
        }
      ]
    },
    {
      "cell_type": "markdown",
      "metadata": {
        "id": "pOCi508pBKV-"
      },
      "source": [
        "#Testing"
      ]
    },
    {
      "cell_type": "code",
      "metadata": {
        "colab": {
          "base_uri": "https://localhost:8080/",
          "height": 222
        },
        "id": "Pq_2H7ceohb4",
        "outputId": "1e27f3e7-5de0-49bc-f16f-764ff305b5a4"
      },
      "source": [
        "test_df = pd.read_csv(\"/content/drive/MyDrive/jobathon/pro_test.csv\")\n",
        "test_df.head()"
      ],
      "execution_count": 49,
      "outputs": [
        {
          "output_type": "execute_result",
          "data": {
            "text/html": [
              "<div>\n",
              "<style scoped>\n",
              "    .dataframe tbody tr th:only-of-type {\n",
              "        vertical-align: middle;\n",
              "    }\n",
              "\n",
              "    .dataframe tbody tr th {\n",
              "        vertical-align: top;\n",
              "    }\n",
              "\n",
              "    .dataframe thead th {\n",
              "        text-align: right;\n",
              "    }\n",
              "</style>\n",
              "<table border=\"1\" class=\"dataframe\">\n",
              "  <thead>\n",
              "    <tr style=\"text-align: right;\">\n",
              "      <th></th>\n",
              "      <th>ID</th>\n",
              "      <th>Gender</th>\n",
              "      <th>Age</th>\n",
              "      <th>Region_Code</th>\n",
              "      <th>Occupation</th>\n",
              "      <th>Channel_Code</th>\n",
              "      <th>Vintage</th>\n",
              "      <th>Credit_Product</th>\n",
              "      <th>Avg_Account_Balance</th>\n",
              "      <th>Is_Active</th>\n",
              "    </tr>\n",
              "  </thead>\n",
              "  <tbody>\n",
              "    <tr>\n",
              "      <th>0</th>\n",
              "      <td>VBENBARO</td>\n",
              "      <td>1.0</td>\n",
              "      <td>29.0</td>\n",
              "      <td>4.0</td>\n",
              "      <td>1.0</td>\n",
              "      <td>0.0</td>\n",
              "      <td>25.0</td>\n",
              "      <td>2.0</td>\n",
              "      <td>742366.0</td>\n",
              "      <td>0.0</td>\n",
              "    </tr>\n",
              "    <tr>\n",
              "      <th>1</th>\n",
              "      <td>CCMEWNKY</td>\n",
              "      <td>1.0</td>\n",
              "      <td>43.0</td>\n",
              "      <td>18.0</td>\n",
              "      <td>1.0</td>\n",
              "      <td>1.0</td>\n",
              "      <td>49.0</td>\n",
              "      <td>1.0</td>\n",
              "      <td>925537.0</td>\n",
              "      <td>0.0</td>\n",
              "    </tr>\n",
              "    <tr>\n",
              "      <th>2</th>\n",
              "      <td>VK3KGA9M</td>\n",
              "      <td>1.0</td>\n",
              "      <td>31.0</td>\n",
              "      <td>20.0</td>\n",
              "      <td>2.0</td>\n",
              "      <td>0.0</td>\n",
              "      <td>14.0</td>\n",
              "      <td>1.0</td>\n",
              "      <td>215949.0</td>\n",
              "      <td>0.0</td>\n",
              "    </tr>\n",
              "    <tr>\n",
              "      <th>3</th>\n",
              "      <td>TT8RPZVC</td>\n",
              "      <td>1.0</td>\n",
              "      <td>29.0</td>\n",
              "      <td>22.0</td>\n",
              "      <td>1.0</td>\n",
              "      <td>0.0</td>\n",
              "      <td>33.0</td>\n",
              "      <td>1.0</td>\n",
              "      <td>868070.0</td>\n",
              "      <td>0.0</td>\n",
              "    </tr>\n",
              "    <tr>\n",
              "      <th>4</th>\n",
              "      <td>SHQZEYTZ</td>\n",
              "      <td>0.0</td>\n",
              "      <td>29.0</td>\n",
              "      <td>20.0</td>\n",
              "      <td>1.0</td>\n",
              "      <td>0.0</td>\n",
              "      <td>19.0</td>\n",
              "      <td>1.0</td>\n",
              "      <td>657087.0</td>\n",
              "      <td>0.0</td>\n",
              "    </tr>\n",
              "  </tbody>\n",
              "</table>\n",
              "</div>"
            ],
            "text/plain": [
              "         ID  Gender   Age  ...  Credit_Product  Avg_Account_Balance  Is_Active\n",
              "0  VBENBARO     1.0  29.0  ...             2.0             742366.0        0.0\n",
              "1  CCMEWNKY     1.0  43.0  ...             1.0             925537.0        0.0\n",
              "2  VK3KGA9M     1.0  31.0  ...             1.0             215949.0        0.0\n",
              "3  TT8RPZVC     1.0  29.0  ...             1.0             868070.0        0.0\n",
              "4  SHQZEYTZ     0.0  29.0  ...             1.0             657087.0        0.0\n",
              "\n",
              "[5 rows x 10 columns]"
            ]
          },
          "metadata": {
            "tags": []
          },
          "execution_count": 49
        }
      ]
    },
    {
      "cell_type": "code",
      "metadata": {
        "id": "Qoa-gMdkqxbh"
      },
      "source": [
        "prob = rfmodel.predict_proba(test_df[test_df.columns[1:]])"
      ],
      "execution_count": 50,
      "outputs": []
    },
    {
      "cell_type": "code",
      "metadata": {
        "colab": {
          "base_uri": "https://localhost:8080/"
        },
        "id": "R3wSL7met0c0",
        "outputId": "48d86186-9b17-4385-fec7-b51f981d2ea8"
      },
      "source": [
        "submission = test_df[['ID']]\n",
        "submission['Is_Lead'] = prob.T[1]\n",
        "submission.to_csv(\"/content/drive/MyDrive/jobathon/sub_finalrf.csv\",index=False)"
      ],
      "execution_count": 51,
      "outputs": [
        {
          "output_type": "stream",
          "text": [
            "/usr/local/lib/python3.7/dist-packages/ipykernel_launcher.py:2: SettingWithCopyWarning: \n",
            "A value is trying to be set on a copy of a slice from a DataFrame.\n",
            "Try using .loc[row_indexer,col_indexer] = value instead\n",
            "\n",
            "See the caveats in the documentation: https://pandas.pydata.org/pandas-docs/stable/user_guide/indexing.html#returning-a-view-versus-a-copy\n",
            "  \n"
          ],
          "name": "stderr"
        }
      ]
    },
    {
      "cell_type": "markdown",
      "metadata": {
        "id": "X_OYFRtHNifZ"
      },
      "source": [
        "#Trying without CP"
      ]
    },
    {
      "cell_type": "code",
      "metadata": {
        "colab": {
          "base_uri": "https://localhost:8080/",
          "height": 1000
        },
        "id": "JRe7ygoXNASB",
        "outputId": "5e75673f-2fa6-44e0-e901-a2c61490702a"
      },
      "source": [
        "data_encoded = pd.read_csv(\"/content/drive/MyDrive/jobathon/encoded_data.csv\")\n",
        "data_encoded = data_encoded.loc[:, data_encoded.columns!= 'Credit_Product']\n",
        "train, test = train_test_split(data_encoded, test_size=0.2, random_state=111, stratify = data_encoded.Is_Lead)\n",
        "x = data_encoded.columns[1:-1]\n",
        "y = \"Is_Lead\"\n",
        "train_x = train[x]\n",
        "train_y = train[y]\n",
        "test_x = test[x]\n",
        "test_y = test[y]\n",
        "\n",
        "prediction(rfmodel, train_x, train_y, test_x, test_y, x,\"features\")\n",
        "\n",
        "test_encoded = pd.read_csv(\"/content/drive/MyDrive/jobathon/encoded_test.csv\")\n",
        "test_encoded = test_encoded.loc[:, test_encoded.columns!= 'Credit_Product']\n",
        "prob = rfmodel.predict_proba(test_encoded[test_encoded.columns[1:]])\n",
        "\n",
        "submission = test_df[['ID']]\n",
        "submission['Is_Lead'] = prob.T[1]\n",
        "submission.to_csv(\"/content/drive/MyDrive/jobathon/sub_noimp_rf.csv\",index=False)"
      ],
      "execution_count": 39,
      "outputs": [
        {
          "output_type": "stream",
          "text": [
            "fitted model\n",
            "RandomForestClassifier(bootstrap=True, ccp_alpha=0.0, class_weight={0: 1, 1: 2},\n",
            "                       criterion='entropy', max_depth=6, max_features='auto',\n",
            "                       max_leaf_nodes=None, max_samples=None,\n",
            "                       min_impurity_decrease=0.0, min_impurity_split=None,\n",
            "                       min_samples_leaf=1, min_samples_split=8,\n",
            "                       min_weight_fraction_leaf=0.0, n_estimators=1000,\n",
            "                       n_jobs=None, oob_score=False, random_state=None,\n",
            "                       verbose=0, warm_start=False)\n",
            "\n",
            " Classification report : \n",
            "               precision    recall  f1-score   support\n",
            "\n",
            "           0       0.85      0.79      0.82     37487\n",
            "           1       0.45      0.56      0.50     11658\n",
            "\n",
            "    accuracy                           0.73     49145\n",
            "   macro avg       0.65      0.67      0.66     49145\n",
            "weighted avg       0.76      0.73      0.74     49145\n",
            "\n",
            "Accuracy   Score :  0.7348458642791739\n",
            "Area under curve :  0.7589159564221641 \n",
            "\n"
          ],
          "name": "stdout"
        },
        {
          "output_type": "display_data",
          "data": {
            "image/png": "[encoded data removed]",
            "text/plain": [
              "<Figure size 864x864 with 4 Axes>"
            ]
          },
          "metadata": {
            "tags": [],
            "needs_background": "light"
          }
        },
        {
          "output_type": "stream",
          "text": [
            "/usr/local/lib/python3.7/dist-packages/ipykernel_launcher.py:18: SettingWithCopyWarning: \n",
            "A value is trying to be set on a copy of a slice from a DataFrame.\n",
            "Try using .loc[row_indexer,col_indexer] = value instead\n",
            "\n",
            "See the caveats in the documentation: https://pandas.pydata.org/pandas-docs/stable/user_guide/indexing.html#returning-a-view-versus-a-copy\n"
          ],
          "name": "stderr"
        }
      ]
    },
    {
      "cell_type": "code",
      "metadata": {
        "id": "RYhVKO_2PRZY"
      },
      "source": [
        ""
      ],
      "execution_count": 39,
      "outputs": []
    }
  ]
}